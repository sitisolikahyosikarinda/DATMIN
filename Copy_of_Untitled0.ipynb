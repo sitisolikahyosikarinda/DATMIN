{
  "nbformat": 4,
  "nbformat_minor": 0,
  "metadata": {
    "colab": {
      "provenance": [],
      "authorship_tag": "ABX9TyP/QlSoHJuzOIprKiWEqa2S",
      "include_colab_link": true
    },
    "kernelspec": {
      "name": "python3",
      "display_name": "Python 3"
    },
    "language_info": {
      "name": "python"
    }
  },
  "cells": [
    {
      "cell_type": "markdown",
      "metadata": {
        "id": "view-in-github",
        "colab_type": "text"
      },
      "source": [
        "<a href=\"https://colab.research.google.com/github/sitisolikahyosikarinda/DATMIN/blob/main/Copy_of_Untitled0.ipynb\" target=\"_parent\"><img src=\"https://colab.research.google.com/assets/colab-badge.svg\" alt=\"Open In Colab\"/></a>"
      ]
    },
    {
      "cell_type": "markdown",
      "source": [
        "# Analisa Resiko Kredit dalam Penyaluran Kredit Bank"
      ],
      "metadata": {
        "id": "buKcTlVF1S00"
      }
    },
    {
      "cell_type": "markdown",
      "source": [
        " Nama : Siti Solikah Yosi Karinda\n",
        " NIM  : 2209116029\n",
        "\n",
        "# Sistem Informasi A 2022"
      ],
      "metadata": {
        "id": "zmDdO4JJoCb2"
      }
    },
    {
      "cell_type": "markdown",
      "source": [
        "Bussines Understanding"
      ],
      "metadata": {
        "id": "GrD_V9ru7csS"
      }
    },
    {
      "cell_type": "markdown",
      "source": [
        "Business Objective\n",
        "\n",
        "Tujuan permodelan dataset ini adalah untuk memprediksi kredit yang diberikan kepada pemohon memberi keuntungan atau kerugian bagi lembaga pemberi pinjaman.\n",
        "\n",
        "Assess Situation\n",
        "situasi bisnins yang mendasari analisis ini adalah bagaimana tepatnya kredit diberikan.\n",
        "\n",
        "Data Mining Goals\n",
        "\n",
        "Tujuan data mining pada dataset ini adalah memprediksi pemberi pinjaman bagaimana tepatnya kredit diberikan untuk berbagai tujuan.\n",
        "\n",
        "Project Plan\n",
        "Rencana proyek untuk menganalisis dataset dengan pengumpulan data dari sumber yang tersedia. setelah itu data dijelaskan dan di identifikasi."
      ],
      "metadata": {
        "id": "KZ_D7NHg8Am4"
      }
    }
  ]
}